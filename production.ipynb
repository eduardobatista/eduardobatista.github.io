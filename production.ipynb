{
 "cells": [
  {
   "cell_type": "code",
   "execution_count": 4,
   "metadata": {},
   "outputs": [],
   "source": [
    "from crossref.restful import Works\n",
    "import json"
   ]
  },
  {
   "cell_type": "code",
   "execution_count": 5,
   "metadata": {},
   "outputs": [],
   "source": [
    "def getPaperItem(doistr,html=True,fromjournal=True):\n",
    "    if doistr.startswith(\"http://dx.doi.org\"):\n",
    "        doilink = doistr\n",
    "    else:\n",
    "        doilink = \"http://dx.doi.org/\" + doistr\n",
    "    wk = Works().doi(doistr)\n",
    "    # Authors:\n",
    "    authors = []\n",
    "    for aa in wk['author']:\n",
    "        authors.append(f\"{aa['given']} {aa['family']}\")\n",
    "    if len(aa) == 1:\n",
    "        pstring = authors[0]\n",
    "    else:\n",
    "        pstring = \", \".join(authors[:-1]) + \", and \" + authors[-1]\n",
    "    # Title:\n",
    "    if html:\n",
    "        pstring += f\", <a href='{doilink}'>\\\"{wk['title'][0]}\\\"</a>\"        \n",
    "    else:\n",
    "        pstring += f\", \\\"{wk['title'][0]}\\\"\"\n",
    "    # Journal and Date:\n",
    "    if 'published-print' in wk.keys():\n",
    "        pubyear = wk['published-print']['date-parts'][0][0]        \n",
    "        flagpublished = True\n",
    "    else:\n",
    "        pubyear = wk['created']['date-parts'][0][0]\n",
    "        flagpublished = False    \n",
    "    datestr = f\"{pubyear}\"\n",
    "    if fromjournal:\n",
    "        pstring += f\", {wk['container-title'][0]}, {datestr}.\" if flagpublished else \\\n",
    "                f\", accepted for publication in {wk['container-title'][0]}, {datestr}.\"\n",
    "    else: \n",
    "        pstring +=  f\", in {wk['event']['name']}, {datestr}.\"\n",
    "    pstring += f\" DOI: {doistr}\"\n",
    "    return pubyear,pstring\n",
    "\n",
    "\n",
    "def getManPaperItem(paperdata,html=True):\n",
    "    pstring = paperdata['authors']  \n",
    "    plink = paperdata['link']\n",
    "    ptitle = paperdata['title']  \n",
    "    if html and (plink != \"\"):\n",
    "        pstring += f\", <a href='{plink}'>\\\"{ptitle}\\\"</a>\"        \n",
    "    else:\n",
    "        pstring += f\", \\\"{ptitle}\\\"\"\n",
    "    # Journal and Date:\n",
    "    pubyear = paperdata['year']      \n",
    "    datestr = f\"{pubyear}\"\n",
    "    pstring +=  f\", in {paperdata['conference']}, {datestr}.\"\n",
    "    return pubyear,pstring,paperdata['lang']"
   ]
  },
  {
   "cell_type": "code",
   "execution_count": 6,
   "metadata": {},
   "outputs": [],
   "source": [
    "doilist = []\n",
    "with open(\"journalpaperlist.txt\",\"r\") as ff:\n",
    "    doilist = ff.readlines()\n",
    "\n",
    "mylist = []\n",
    "for dd in doilist:\n",
    "    if len(dd) > 3:\n",
    "        mylist.append(getPaperItem(dd))\n",
    "\n",
    "mylist = sorted(mylist,key=lambda x: x[0],reverse=True)\n",
    "\n",
    "respstr = \"<ol>\\n\"\n",
    "for dd in mylist:\n",
    "    respstr += \"<li>\"\n",
    "    respstr += dd[1]\n",
    "    respstr += \"</li>\\n\"\n",
    "respstr += \"</ol>\\n\"\n",
    "\n",
    "with open(\"src/journalpubs.html\",\"w+\") as ff:\n",
    "    ff.write(respstr)"
   ]
  },
  {
   "cell_type": "code",
   "execution_count": 106,
   "metadata": {},
   "outputs": [],
   "source": [
    "mylist = []\n",
    "\n",
    "# Papers with DOI:\n",
    "with open(\"confpaperswithdoi.txt\",\"r\") as ff:\n",
    "    for ll in ff.readlines():\n",
    "        if len(ll) > 5:\n",
    "            aux = ll.split(\"\\t\")\n",
    "            mylist.append( getPaperItem(aux[1],fromjournal=False) + (aux[0],) )\n",
    "\n",
    "# Papers without DOI:\n",
    "dtwdoi = json.load(open('confpaperswoutdoi.json'))\n",
    "for kk in dtwdoi['paperlist'].keys():\n",
    "    mylist.append(getManPaperItem(dtwdoi['paperlist'][kk]))   \n",
    "\n",
    "mylist = sorted(mylist,key=lambda x: x[0],reverse=True)\n",
    "\n",
    "respstr = \"<ol>\\n\"\n",
    "for dd in mylist:\n",
    "    respstr += \"<li><span class='tag is-success is-light mr-2'>In portuguese</span>\" if dd[2] == \"pt\" else \"<li>\"\n",
    "    respstr += dd[1]\n",
    "    respstr += \"</li>\\n\"\n",
    "respstr += \"</ol>\\n\"\n",
    "\n",
    "with open(\"src/conferencepubs.html\",\"w+\") as ff:\n",
    "    ff.write(respstr)"
   ]
  },
  {
   "cell_type": "code",
   "execution_count": null,
   "metadata": {},
   "outputs": [],
   "source": []
  }
 ],
 "metadata": {
  "kernelspec": {
   "display_name": "Python 3",
   "language": "python",
   "name": "python3"
  },
  "language_info": {
   "codemirror_mode": {
    "name": "ipython",
    "version": 3
   },
   "file_extension": ".py",
   "mimetype": "text/x-python",
   "name": "python",
   "nbconvert_exporter": "python",
   "pygments_lexer": "ipython3",
   "version": "3.10.12"
  },
  "orig_nbformat": 4,
  "vscode": {
   "interpreter": {
    "hash": "916dbcbb3f70747c44a77c7bcd40155683ae19c65e1c03b4aa3499c5328201f1"
   }
  }
 },
 "nbformat": 4,
 "nbformat_minor": 2
}
